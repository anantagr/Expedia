{
 "metadata": {
  "language_info": {
   "codemirror_mode": {
    "name": "ipython",
    "version": 3
   },
   "file_extension": ".py",
   "mimetype": "text/x-python",
   "name": "python",
   "nbconvert_exporter": "python",
   "pygments_lexer": "ipython3",
   "version": "3.7.6-final"
  },
  "orig_nbformat": 2,
  "kernelspec": {
   "name": "python3",
   "display_name": "Python 3",
   "language": "python"
  }
 },
 "nbformat": 4,
 "nbformat_minor": 2,
 "cells": [
  {
   "cell_type": "code",
   "execution_count": 1,
   "metadata": {},
   "outputs": [],
   "source": [
    "from selenium import webdriver\n",
    "from selenium.common.exceptions import WebDriverException\n",
    "from selenium.common.exceptions import SessionNotCreatedException\n",
    "\n",
    "from time import sleep\n",
    "from selenium.webdriver.common.keys import Keys\n",
    "from parsel import Selector\n",
    "\n",
    "from bs4 import BeautifulSoup  \n",
    "from urllib.request import urlopen as uReq\n",
    "\n",
    "import pandas as pd\n",
    "from datetime import datetime\n",
    "from datetime import date\n"
   ]
  },
  {
   "cell_type": "code",
   "execution_count": 2,
   "metadata": {},
   "outputs": [],
   "source": [
    "# specifies driver\n",
    "path = 'F:\\Google drive - theanantagr\\Colab Notebooks\\Expedia'\n",
    "chromepath = path.replace('\\\\',\"/\")+'/chromedriver.exe'\n",
    "\n",
    "driver = webdriver.Chrome(chromepath)\n",
    "sleep(0.5)"
   ]
  },
  {
   "cell_type": "code",
   "execution_count": 3,
   "metadata": {},
   "outputs": [],
   "source": [
    "driver.get('https://www.expedia.com/Hotel-Search?adults=2&d1=2021-02-17&d2=2021-02-18&destination=Greensboro%20%28and%20vicinity%29%2C%20North%20Carolina%2C%20United%20States%20of%20America&endDate=2021-02-18&latLong=36.072517%2C-79.791512&regionId=602968&rooms=1&semdtl=&sort=RECOMMENDED&startDate=2021-02-17&theme=&useRewards=false&userIntent')\n",
    "sleep(4)"
   ]
  },
  {
   "cell_type": "code",
   "execution_count": 4,
   "metadata": {},
   "outputs": [],
   "source": [
    "lenOfPage = driver.execute_script(\"window.scrollTo(0, document.body.scrollHeight);var lenOfPage=document.body.scrollHeight;return lenOfPage;\")\n",
    "match=False\n",
    "while(match==False):\n",
    "    lastCount = lenOfPage\n",
    "    sleep(1)\n",
    "    lenOfPage = driver.execute_script(\"window.scrollTo(0, document.body.scrollHeight);var lenOfPage=document.body.scrollHeight;return lenOfPage;\")\n",
    "        \n",
    "    if lastCount==lenOfPage:\n",
    "        match=True\n",
    "while True:\n",
    "    try:\n",
    "        driver.find_element_by_xpath('/html[1]/body[1]/div[2]/div[1]/div[1]/div[1]/div[1]/div[1]/div[1]/main[1]/div[2]/div[1]/div[2]/section[3]/button[1]').click()\n",
    "        # head_driver.find_element_by_xpath('/html/body/main/div/section/button').click()\n",
    "\n",
    "    except:\n",
    "        break\n",
    "sleep(1)"
   ]
  },
  {
   "cell_type": "code",
   "execution_count": 5,
   "metadata": {},
   "outputs": [],
   "source": [
    "pageSource = driver.page_source\n",
    "lxml_soup = BeautifulSoup(pageSource, 'lxml')\n",
    "\n",
    "# searching for all hotels\n",
    "hotel_container = lxml_soup.findAll('li', {'class': 'uitk-spacing listing uitk-spacing-margin-blockstart-three horizontal'})\n",
    "sleep(2)\n"
   ]
  },
  {
   "cell_type": "code",
   "execution_count": 24,
   "metadata": {},
   "outputs": [],
   "source": [
    "hotel_names = []\n",
    "hotel_location = []\n",
    "hotel_links = []\n",
    "hotel_tarrif = []\n",
    "hotel_total_charge = []\n",
    "hotel_rating = []\n",
    "hotel_status = []\n",
    "num_reviews = []\n"
   ]
  },
  {
   "cell_type": "code",
   "execution_count": 29,
   "metadata": {
    "tags": []
   },
   "outputs": [],
   "source": [
    "for hotel in hotel_container:\n",
    "    \n",
    "    #Scrapping info from main search page\n",
    "    name = hotel.find('h3', {'class': 'truncate-lines-2 all-b-padding-half pwa-theme--grey-900 uitk-type-heading-500'}).text\n",
    "    hotel_names.append(name)\n",
    "    \n",
    "    location = hotel.find('div', {'data-test-id': 'content-hotel-neighborhood'}).text\n",
    "    hotel_location.append(location)\n",
    "\n",
    "    link = hotel.find('a', {'class': 'listing__link uitk-card-link'})['href']\n",
    "    hotel_links.append('https://www.expedia.com' + link)\n",
    "\n",
    "    rating = hotel.find('span', {'data-stid': 'content-hotel-reviews-rating'}).text\n",
    "    hotel_rating.append(rating)\n",
    "\n",
    "    # status = hotel.find('span', {'data-stid': 'content-hotel-reviews-superlative'}).text\n",
    "    # hotel_status.append(status)\n",
    "\n",
    "    num_review = hotel.find('span', {'data-stid': 'content-hotel-reviews-total'}).text\n",
    "    num_reviews.append(num_review)\n",
    "\n",
    "    tarrif = hotel.find('span', {'data-stid': 'content-hotel-lead-price'}).text\n",
    "    hotel_tarrif.append(tarrif)"
   ]
  },
  {
   "cell_type": "code",
   "execution_count": 30,
   "metadata": {},
   "outputs": [],
   "source": [
    "df = pd.DataFrame()"
   ]
  },
  {
   "cell_type": "code",
   "execution_count": 31,
   "metadata": {},
   "outputs": [],
   "source": [
    "df['Hotel Name'] = hotel_names\n",
    "df['Location'] = hotel_location\n",
    "df['Tarrif'] = hotel_tarrif\n",
    "df['Ratings'] = hotel_rating\n",
    "df['Number of reviews'] = num_reviews\n",
    "df['Website'] = hotel_links\n"
   ]
  },
  {
   "cell_type": "code",
   "execution_count": 32,
   "metadata": {},
   "outputs": [
    {
     "output_type": "execute_result",
     "data": {
      "text/plain": [
       "                              Hotel Name    Location Tarrif Ratings  \\\n",
       "0          Wingate by Wyndham High Point  High Point    $93   4.1/5   \n",
       "1  Hawthorn Suites by Wyndham Greensboro  Greensboro    $71   4.0/5   \n",
       "2                        Proximity Hotel  Greensboro   $256   4.7/5   \n",
       "3                          O.Henry Hotel  Greensboro   $269   4.8/5   \n",
       "4        Wingate by Wyndham - Greensboro  Greensboro    $78   4.5/5   \n",
       "\n",
       "  Number of reviews                                            Website  \n",
       "0     (996 reviews)  https://www.expedia.com/Greensboro-Hotels-Wing...  \n",
       "1     (888 reviews)  https://www.expedia.com/Greensboro-Hotels-Hawt...  \n",
       "2     (347 reviews)  https://www.expedia.com/Greensboro-Hotels-Prox...  \n",
       "3     (289 reviews)  https://www.expedia.com/Greensboro-Hotels-OHen...  \n",
       "4   (1,002 reviews)  https://www.expedia.com/Greensboro-Hotels-Wing...  "
      ],
      "text/html": "<div>\n<style scoped>\n    .dataframe tbody tr th:only-of-type {\n        vertical-align: middle;\n    }\n\n    .dataframe tbody tr th {\n        vertical-align: top;\n    }\n\n    .dataframe thead th {\n        text-align: right;\n    }\n</style>\n<table border=\"1\" class=\"dataframe\">\n  <thead>\n    <tr style=\"text-align: right;\">\n      <th></th>\n      <th>Hotel Name</th>\n      <th>Location</th>\n      <th>Tarrif</th>\n      <th>Ratings</th>\n      <th>Number of reviews</th>\n      <th>Website</th>\n    </tr>\n  </thead>\n  <tbody>\n    <tr>\n      <th>0</th>\n      <td>Wingate by Wyndham High Point</td>\n      <td>High Point</td>\n      <td>$93</td>\n      <td>4.1/5</td>\n      <td>(996 reviews)</td>\n      <td>https://www.expedia.com/Greensboro-Hotels-Wing...</td>\n    </tr>\n    <tr>\n      <th>1</th>\n      <td>Hawthorn Suites by Wyndham Greensboro</td>\n      <td>Greensboro</td>\n      <td>$71</td>\n      <td>4.0/5</td>\n      <td>(888 reviews)</td>\n      <td>https://www.expedia.com/Greensboro-Hotels-Hawt...</td>\n    </tr>\n    <tr>\n      <th>2</th>\n      <td>Proximity Hotel</td>\n      <td>Greensboro</td>\n      <td>$256</td>\n      <td>4.7/5</td>\n      <td>(347 reviews)</td>\n      <td>https://www.expedia.com/Greensboro-Hotels-Prox...</td>\n    </tr>\n    <tr>\n      <th>3</th>\n      <td>O.Henry Hotel</td>\n      <td>Greensboro</td>\n      <td>$269</td>\n      <td>4.8/5</td>\n      <td>(289 reviews)</td>\n      <td>https://www.expedia.com/Greensboro-Hotels-OHen...</td>\n    </tr>\n    <tr>\n      <th>4</th>\n      <td>Wingate by Wyndham - Greensboro</td>\n      <td>Greensboro</td>\n      <td>$78</td>\n      <td>4.5/5</td>\n      <td>(1,002 reviews)</td>\n      <td>https://www.expedia.com/Greensboro-Hotels-Wing...</td>\n    </tr>\n  </tbody>\n</table>\n</div>"
     },
     "metadata": {},
     "execution_count": 32
    }
   ],
   "source": [
    "df.head()"
   ]
  },
  {
   "cell_type": "code",
   "execution_count": 33,
   "metadata": {},
   "outputs": [],
   "source": [
    "df.to_csv (r'expedia_info.csv', index = False, header=True)\n"
   ]
  },
  {
   "cell_type": "code",
   "execution_count": null,
   "metadata": {},
   "outputs": [],
   "source": []
  }
 ]
}